{
 "cells": [
  {
   "cell_type": "markdown",
   "id": "ac560e9d-7734-462d-b9c6-56234cd6d1d7",
   "metadata": {},
   "source": [
    "# Research Question: \n",
    "## What functional difficulties are identified as being the most common for children ages 5-17? Are there similarities/differences between sexes?"
   ]
  },
  {
   "cell_type": "code",
   "execution_count": null,
   "id": "32c7969a-d951-45de-b493-9cc312f70d0a",
   "metadata": {},
   "outputs": [],
   "source": []
  }
 ],
 "metadata": {
  "kernelspec": {
   "display_name": "Python 3 (ipykernel)",
   "language": "python",
   "name": "python3"
  },
  "language_info": {
   "codemirror_mode": {
    "name": "ipython",
    "version": 3
   },
   "file_extension": ".py",
   "mimetype": "text/x-python",
   "name": "python",
   "nbconvert_exporter": "python",
   "pygments_lexer": "ipython3",
   "version": "3.9.1"
  }
 },
 "nbformat": 4,
 "nbformat_minor": 5
}
